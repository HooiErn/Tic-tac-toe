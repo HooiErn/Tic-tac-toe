{
 "cells": [
  {
   "cell_type": "code",
   "execution_count": 1,
   "id": "d65f92a9-4f9c-4c86-9b7f-e3b4d9216095",
   "metadata": {},
   "outputs": [
    {
     "name": "stdout",
     "output_type": "stream",
     "text": [
      "Initial Board Layout:\n",
      " top-a | top-b | top-c \n",
      "-------+-------+-------\n",
      " mid-a | mid-b | mid-c \n",
      "-------+-------+-------\n",
      " bot-a | bot-b | bot-c \n",
      "\n",
      "   |   |   \n",
      "---+---+---\n",
      "   |   |   \n",
      "---+---+---\n",
      "   |   |   \n",
      "\n"
     ]
    },
    {
     "name": "stdin",
     "output_type": "stream",
     "text": [
      "Turn to Player X, Move to which space? (top-a, top-b, top-c, mid-a, mid-b, mid-c, bot-a, bot-b, bot-c):  top-a\n"
     ]
    },
    {
     "name": "stdout",
     "output_type": "stream",
     "text": [
      " X |   |   \n",
      "---+---+---\n",
      "   |   |   \n",
      "---+---+---\n",
      "   |   |   \n",
      "\n"
     ]
    },
    {
     "name": "stdin",
     "output_type": "stream",
     "text": [
      "Turn to Player O, Move to which space? (top-a, top-b, top-c, mid-a, mid-b, mid-c, bot-a, bot-b, bot-c):  mid-b\n"
     ]
    },
    {
     "name": "stdout",
     "output_type": "stream",
     "text": [
      " X |   |   \n",
      "---+---+---\n",
      "   | O |   \n",
      "---+---+---\n",
      "   |   |   \n",
      "\n"
     ]
    },
    {
     "name": "stdin",
     "output_type": "stream",
     "text": [
      "Turn to Player X, Move to which space? (top-a, top-b, top-c, mid-a, mid-b, mid-c, bot-a, bot-b, bot-c):  top-b\n"
     ]
    },
    {
     "name": "stdout",
     "output_type": "stream",
     "text": [
      " X | X |   \n",
      "---+---+---\n",
      "   | O |   \n",
      "---+---+---\n",
      "   |   |   \n",
      "\n"
     ]
    },
    {
     "name": "stdin",
     "output_type": "stream",
     "text": [
      "Turn to Player O, Move to which space? (top-a, top-b, top-c, mid-a, mid-b, mid-c, bot-a, bot-b, bot-c):  top-c\n"
     ]
    },
    {
     "name": "stdout",
     "output_type": "stream",
     "text": [
      " X | X | O \n",
      "---+---+---\n",
      "   | O |   \n",
      "---+---+---\n",
      "   |   |   \n",
      "\n"
     ]
    },
    {
     "name": "stdin",
     "output_type": "stream",
     "text": [
      "Turn to Player X, Move to which space? (top-a, top-b, top-c, mid-a, mid-b, mid-c, bot-a, bot-b, bot-c):  bot-a\n"
     ]
    },
    {
     "name": "stdout",
     "output_type": "stream",
     "text": [
      " X | X | O \n",
      "---+---+---\n",
      "   | O |   \n",
      "---+---+---\n",
      " X |   |   \n",
      "\n"
     ]
    },
    {
     "name": "stdin",
     "output_type": "stream",
     "text": [
      "Turn to Player O, Move to which space? (top-a, top-b, top-c, mid-a, mid-b, mid-c, bot-a, bot-b, bot-c):  mid-a\n"
     ]
    },
    {
     "name": "stdout",
     "output_type": "stream",
     "text": [
      " X | X | O \n",
      "---+---+---\n",
      " O | O |   \n",
      "---+---+---\n",
      " X |   |   \n",
      "\n"
     ]
    },
    {
     "name": "stdin",
     "output_type": "stream",
     "text": [
      "Turn to Player X, Move to which space? (top-a, top-b, top-c, mid-a, mid-b, mid-c, bot-a, bot-b, bot-c):  mid-c\n"
     ]
    },
    {
     "name": "stdout",
     "output_type": "stream",
     "text": [
      " X | X | O \n",
      "---+---+---\n",
      " O | O | X \n",
      "---+---+---\n",
      " X |   |   \n",
      "\n"
     ]
    },
    {
     "name": "stdin",
     "output_type": "stream",
     "text": [
      "Turn to Player O, Move to which space? (top-a, top-b, top-c, mid-a, mid-b, mid-c, bot-a, bot-b, bot-c):  bot-b\n"
     ]
    },
    {
     "name": "stdout",
     "output_type": "stream",
     "text": [
      " X | X | O \n",
      "---+---+---\n",
      " O | O | X \n",
      "---+---+---\n",
      " X | O |   \n",
      "\n"
     ]
    },
    {
     "name": "stdin",
     "output_type": "stream",
     "text": [
      "Turn to Player X, Move to which space? (top-a, top-b, top-c, mid-a, mid-b, mid-c, bot-a, bot-b, bot-c):  bot-c\n"
     ]
    },
    {
     "name": "stdout",
     "output_type": "stream",
     "text": [
      " X | X | O \n",
      "---+---+---\n",
      " O | O | X \n",
      "---+---+---\n",
      " X | O | X \n",
      "\n",
      "Draw!\n"
     ]
    },
    {
     "name": "stdin",
     "output_type": "stream",
     "text": [
      "Would you like to play again? (type 'r' to restart, 'q' to quit):  r\n"
     ]
    },
    {
     "name": "stdout",
     "output_type": "stream",
     "text": [
      "Initial Board Layout:\n",
      " top-a | top-b | top-c \n",
      "-------+-------+-------\n",
      " mid-a | mid-b | mid-c \n",
      "-------+-------+-------\n",
      " bot-a | bot-b | bot-c \n",
      "\n",
      "   |   |   \n",
      "---+---+---\n",
      "   |   |   \n",
      "---+---+---\n",
      "   |   |   \n",
      "\n"
     ]
    },
    {
     "name": "stdin",
     "output_type": "stream",
     "text": [
      "Turn to Player X, Move to which space? (top-a, top-b, top-c, mid-a, mid-b, mid-c, bot-a, bot-b, bot-c):  top-a\n"
     ]
    },
    {
     "name": "stdout",
     "output_type": "stream",
     "text": [
      " X |   |   \n",
      "---+---+---\n",
      "   |   |   \n",
      "---+---+---\n",
      "   |   |   \n",
      "\n"
     ]
    },
    {
     "name": "stdin",
     "output_type": "stream",
     "text": [
      "Turn to Player O, Move to which space? (top-a, top-b, top-c, mid-a, mid-b, mid-c, bot-a, bot-b, bot-c):  mid-a\n"
     ]
    },
    {
     "name": "stdout",
     "output_type": "stream",
     "text": [
      " X |   |   \n",
      "---+---+---\n",
      " O |   |   \n",
      "---+---+---\n",
      "   |   |   \n",
      "\n"
     ]
    },
    {
     "name": "stdin",
     "output_type": "stream",
     "text": [
      "Turn to Player X, Move to which space? (top-a, top-b, top-c, mid-a, mid-b, mid-c, bot-a, bot-b, bot-c):  top-b\n"
     ]
    },
    {
     "name": "stdout",
     "output_type": "stream",
     "text": [
      " X | X |   \n",
      "---+---+---\n",
      " O |   |   \n",
      "---+---+---\n",
      "   |   |   \n",
      "\n"
     ]
    },
    {
     "name": "stdin",
     "output_type": "stream",
     "text": [
      "Turn to Player O, Move to which space? (top-a, top-b, top-c, mid-a, mid-b, mid-c, bot-a, bot-b, bot-c):  top-b\n"
     ]
    },
    {
     "name": "stdout",
     "output_type": "stream",
     "text": [
      "The position is already occupied. Try again.\n",
      "\n"
     ]
    },
    {
     "name": "stdin",
     "output_type": "stream",
     "text": [
      "Turn to Player O, Move to which space? (top-a, top-b, top-c, mid-a, mid-b, mid-c, bot-a, bot-b, bot-c):  mmmm\n"
     ]
    },
    {
     "name": "stdout",
     "output_type": "stream",
     "text": [
      "Invalid move. Try again.\n",
      "\n"
     ]
    },
    {
     "name": "stdin",
     "output_type": "stream",
     "text": [
      "Turn to Player O, Move to which space? (top-a, top-b, top-c, mid-a, mid-b, mid-c, bot-a, bot-b, bot-c):  mid-b\n"
     ]
    },
    {
     "name": "stdout",
     "output_type": "stream",
     "text": [
      " X | X |   \n",
      "---+---+---\n",
      " O | O |   \n",
      "---+---+---\n",
      "   |   |   \n",
      "\n"
     ]
    },
    {
     "name": "stdin",
     "output_type": "stream",
     "text": [
      "Turn to Player X, Move to which space? (top-a, top-b, top-c, mid-a, mid-b, mid-c, bot-a, bot-b, bot-c):  top-c\n"
     ]
    },
    {
     "name": "stdout",
     "output_type": "stream",
     "text": [
      " X | X | X \n",
      "---+---+---\n",
      " O | O |   \n",
      "---+---+---\n",
      "   |   |   \n",
      "\n",
      "Congratulations, Player X wins!\n"
     ]
    },
    {
     "name": "stdin",
     "output_type": "stream",
     "text": [
      "Would you like to play again? (type 'r' to restart, 'q' to quit):  q\n"
     ]
    },
    {
     "name": "stdout",
     "output_type": "stream",
     "text": [
      "Thank you for playing!\n"
     ]
    }
   ],
   "source": [
    "from TicTacToe import *\n",
    "game = TicTacToe()\n",
    "game.play()"
   ]
  },
  {
   "cell_type": "code",
   "execution_count": null,
   "id": "0aa16449-b3ee-4757-bdac-2cf1b41a761a",
   "metadata": {},
   "outputs": [],
   "source": []
  }
 ],
 "metadata": {
  "kernelspec": {
   "display_name": "Python 3 (ipykernel)",
   "language": "python",
   "name": "python3"
  },
  "language_info": {
   "codemirror_mode": {
    "name": "ipython",
    "version": 3
   },
   "file_extension": ".py",
   "mimetype": "text/x-python",
   "name": "python",
   "nbconvert_exporter": "python",
   "pygments_lexer": "ipython3",
   "version": "3.11.7"
  }
 },
 "nbformat": 4,
 "nbformat_minor": 5
}
