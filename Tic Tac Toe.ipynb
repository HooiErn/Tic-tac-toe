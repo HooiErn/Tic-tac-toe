{
 "cells": [
  {
   "cell_type": "code",
   "execution_count": null,
   "id": "27f96e09-127a-4a54-aaac-088f0f057d68",
   "metadata": {},
   "outputs": [
    {
     "name": "stdout",
     "output_type": "stream",
     "text": [
      " | | \n",
      "-+-+-\n",
      " | | \n",
      "-+-+-\n",
      " | | \n",
      "\n"
     ]
    },
    {
     "name": "stdin",
     "output_type": "stream",
     "text": [
      "Player X, enter your move (top-a, top-b, top-c, mid-a, mid-b, mid-c, bot-a, bot-b, bot-c):  top-a\n"
     ]
    },
    {
     "name": "stdout",
     "output_type": "stream",
     "text": [
      "X| | \n",
      "-+-+-\n",
      " | | \n",
      "-+-+-\n",
      " | | \n",
      "\n"
     ]
    }
   ],
   "source": 
    "board = {\n",
    "    'top-a': ' ', 'top-b': ' ', 'top-c': ' ',\n",
    "    'mid-a': ' ', 'mid-b': ' ', 'mid-c': ' ',\n",
    "    'bot-a': ' ', 'bot-b': ' ', 'bot-c': ' '\n",
    "}\n",
    "\n",
    "def print_board(board):\n",
    "    print(f\"{board['top-a']}|{board['top-b']}|{board['top-c']}\")\n",
    "    print('-+-+-')\n",
    "    print(f\"{board['mid-a']}|{board['mid-b']}|{board['mid-c']}\")\n",
    "    print('-+-+-')\n",
    "    print(f\"{board['bot-a']}|{board['bot-b']}|{board['bot-c']}\")\n",
    "    print()\n",
    "\n",
    "def check_winner(board, player):\n",
    "    win_conditions = [\n",
    "        ['top-a', 'top-b', 'top-c'], ['mid-a', 'mid-b', 'mid-c'], ['bot-a', 'bot-b', 'bot-c'], # Horizontal\n",
    "        ['top-a', 'mid-a', 'bot-a'], ['top-b', 'mid-b', 'bot-b'], ['top-c', 'mid-c', 'bot-c'], # Vertical\n",
    "        ['top-a', 'mid-b', 'bot-c'], ['top-c', 'mid-b', 'bot-a']                              # Diagonal\n",
    "    ]\n",
    "    for condition in win_conditions:\n",
    "        if all(board[pos] == player for pos in condition):\n",
    "            return True\n",
    "    return False\n",
    "\n",
    "def check_tie(board):\n",
    "    return all(value != ' ' for value in board.values())\n",
    "\n",
    "def player_move(board, player):\n",
    "    valid_moves = \"top-a, top-b, top-c, mid-a, mid-b, mid-c, bot-a, bot-b, bot-c\"\n",
    "    while True:\n",
    "        move = input(f\"Player {player}, enter your move ({valid_moves}): \")\n",
    "        if move in board and board[move] == ' ':\n",
    "            board[move] = player\n",
    "            break\n",
    "        else:\n",
    "            print(\"Invalid move. Try again.\")\n",
    "        print()\n",
    "\n",
    "def main():\n",
    "    current_player = 'X'\n",
    "    while True:\n",
    "        print_board(board)\n",
    "        player_move(board, current_player)\n",
    "        if check_winner(board, current_player):\n",
    "            print_board(board)\n",
    "            print(f\"Player {current_player} wins!\")\n",
    "            break\n",
    "        if check_tie(board):\n",
    "            print_board(board)\n",
    "            print(\"The game is a tie!\")\n",
    "            break\n",
    "        current_player = 'O' if current_player == 'X' else 'X' # Switching Player\n",
    "\n",
    "if __name__ == \"__main__\":\n",
    "    main()\n"
   ]
  },
  {
   "cell_type": "code",
   "execution_count": null,
   "id": "d73826b2-c214-43de-9098-5c5d303641b5",
   "metadata": {},
   "outputs": [],
   "source": []
  },
  {
   "cell_type": "code",
   "execution_count": null,
   "id": "2f0343d1-020b-440c-8dd4-e0d934ab9f52",
   "metadata": {},
   "outputs": [],
   "source": []
  },
  {
   "cell_type": "code",
   "execution_count": null,
   "id": "da0170ae-3e4d-4d72-b98d-e04b38fdd9fe",
   "metadata": {},
   "outputs": [],
   "source": []
  }
 ],
 "metadata": {
  "kernelspec": {
   "display_name": "Python 3 (ipykernel)",
   "language": "python",
   "name": "python3"
  },
  "language_info": {
   "codemirror_mode": {
    "name": "ipython",
    "version": 3
   },
   "file_extension": ".py",
   "mimetype": "text/x-python",
   "name": "python",
   "nbconvert_exporter": "python",
   "pygments_lexer": "ipython3",
   "version": "3.11.7"
  }
 },
 "nbformat": 4,
 "nbformat_minor": 5
}
