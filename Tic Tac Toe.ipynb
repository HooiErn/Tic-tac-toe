{
 "cells": [
  {
   "cell_type": "code",
   "execution_count": 2,
   "id": "27f96e09-127a-4a54-aaac-088f0f057d68",
   "metadata": {},
   "outputs": [
    {
     "name": "stdout",
     "output_type": "stream",
     "text": [
      " | | \n",
      "-+-+-\n",
      " | | \n",
      "-+-+-\n",
      " | | \n",
      "\n"
     ]
    },
    {
     "name": "stdin",
     "output_type": "stream",
     "text": [
      "Turn to Player X, Move to which space? (top-a, top-b, top-c, mid-a, mid-b, mid-c, bot-a, bot-b, bot-c):  top-a\n"
     ]
    },
    {
     "name": "stdout",
     "output_type": "stream",
     "text": [
      "X| | \n",
      "-+-+-\n",
      " | | \n",
      "-+-+-\n",
      " | | \n",
      "\n"
     ]
    },
    {
     "name": "stdin",
     "output_type": "stream",
     "text": [
      "Turn to Player O, Move to which space? (top-a, top-b, top-c, mid-a, mid-b, mid-c, bot-a, bot-b, bot-c):  mid-a\n"
     ]
    },
    {
     "name": "stdout",
     "output_type": "stream",
     "text": [
      "X| | \n",
      "-+-+-\n",
      "O| | \n",
      "-+-+-\n",
      " | | \n",
      "\n"
     ]
    },
    {
     "name": "stdin",
     "output_type": "stream",
     "text": [
      "Turn to Player X, Move to which space? (top-a, top-b, top-c, mid-a, mid-b, mid-c, bot-a, bot-b, bot-c):  top-b\n"
     ]
    },
    {
     "name": "stdout",
     "output_type": "stream",
     "text": [
      "X|X| \n",
      "-+-+-\n",
      "O| | \n",
      "-+-+-\n",
      " | | \n",
      "\n"
     ]
    },
    {
     "name": "stdin",
     "output_type": "stream",
     "text": [
      "Turn to Player O, Move to which space? (top-a, top-b, top-c, mid-a, mid-b, mid-c, bot-a, bot-b, bot-c):  mid-b\n"
     ]
    },
    {
     "name": "stdout",
     "output_type": "stream",
     "text": [
      "X|X| \n",
      "-+-+-\n",
      "O|O| \n",
      "-+-+-\n",
      " | | \n",
      "\n"
     ]
    },
    {
     "name": "stdin",
     "output_type": "stream",
     "text": [
      "Turn to Player X, Move to which space? (top-a, top-b, top-c, mid-a, mid-b, mid-c, bot-a, bot-b, bot-c):  md-b\n"
     ]
    },
    {
     "name": "stdout",
     "output_type": "stream",
     "text": [
      "Invalid move. Try again.\n",
      "\n"
     ]
    },
    {
     "name": "stdin",
     "output_type": "stream",
     "text": [
      "Turn to Player X, Move to which space? (top-a, top-b, top-c, mid-a, mid-b, mid-c, bot-a, bot-b, bot-c):  top-b\n"
     ]
    },
    {
     "name": "stdout",
     "output_type": "stream",
     "text": [
      "The position is already occupied. Try again.\n",
      "\n"
     ]
    },
    {
     "name": "stdin",
     "output_type": "stream",
     "text": [
      "Turn to Player X, Move to which space? (top-a, top-b, top-c, mid-a, mid-b, mid-c, bot-a, bot-b, bot-c):  top-c\n"
     ]
    },
    {
     "name": "stdout",
     "output_type": "stream",
     "text": [
      "X|X|X\n",
      "-+-+-\n",
      "O|O| \n",
      "-+-+-\n",
      " | | \n",
      "\n",
      "Congratulations, Player X wins!\n"
     ]
    }
   ],
   "source": [
    "class TicTacToe:\n",
    "    def __init__(self):\n",
    "        # Initialize the game board\n",
    "        self.board = {\n",
    "            'top-a': ' ', 'top-b': ' ', 'top-c': ' ',\n",
    "            'mid-a': ' ', 'mid-b': ' ', 'mid-c': ' ',\n",
    "            'bot-a': ' ', 'bot-b': ' ', 'bot-c': ' '\n",
    "        }\n",
    "        self.current_player = 'X'\n",
    "    \n",
    "    def print_board(self):\n",
    "        # Print the current state of the board\n",
    "        print(f\"{self.board['top-a']}|{self.board['top-b']}|{self.board['top-c']}\")  # Top row\n",
    "        print('-+-+-')\n",
    "        print(f\"{self.board['mid-a']}|{self.board['mid-b']}|{self.board['mid-c']}\")  # Middle row\n",
    "        print('-+-+-')\n",
    "        print(f\"{self.board['bot-a']}|{self.board['bot-b']}|{self.board['bot-c']}\")  # Bottom row\n",
    "        print()\n",
    "    \n",
    "    def check_winner(self):\n",
    "        # Define all possible winning conditions\n",
    "        win_conditions = [\n",
    "            ['top-a', 'top-b', 'top-c'], ['mid-a', 'mid-b', 'mid-c'], ['bot-a', 'bot-b', 'bot-c'],  # Horizontal\n",
    "            ['top-a', 'mid-a', 'bot-a'], ['top-b', 'mid-b', 'bot-b'], ['top-c', 'mid-c', 'bot-c'],  # Vertical\n",
    "            ['top-a', 'mid-b', 'bot-c'], ['top-c', 'mid-b', 'bot-a']  # Diagonal\n",
    "        ]\n",
    "        # Check if the current player meets any winning condition\n",
    "        for condition in win_conditions:\n",
    "            if all(self.board[pos] == self.current_player for pos in condition):\n",
    "                return True\n",
    "        return False\n",
    "    \n",
    "    def check_tie(self):\n",
    "        # Check if all positions are filled, indicating a tie\n",
    "        return all(value != ' ' for value in self.board.values())\n",
    "    \n",
    "    def player_move(self):\n",
    "        # Prompt the player to make a move and validate the input\n",
    "        valid_moves = \"top-a, top-b, top-c, mid-a, mid-b, mid-c, bot-a, bot-b, bot-c\"\n",
    "        while True:\n",
    "            move = input(f\"Turn to Player {self.current_player}, Move to which space? ({valid_moves}): \")\n",
    "            if move in self.board:\n",
    "                if self.board[move] == ' ':\n",
    "                    self.board[move] = self.current_player\n",
    "                    break\n",
    "                else:\n",
    "                    print(\"The position is already occupied. Try again.\")\n",
    "            else:\n",
    "                print(\"Invalid move. Try again.\")\n",
    "            print()\n",
    "    \n",
    "    def switch_player(self):\n",
    "        # Switch the current player from X to O or O to X\n",
    "        self.current_player = 'O' if self.current_player == 'X' else 'X'\n",
    "    \n",
    "    def play(self):\n",
    "        # Main game loop\n",
    "        while True:\n",
    "            self.print_board()\n",
    "            self.player_move()\n",
    "            if self.check_winner():\n",
    "                self.print_board()\n",
    "                print(f\"Congratulations, Player {self.current_player} wins!\")\n",
    "                break\n",
    "            if self.check_tie():\n",
    "                self.print_board()\n",
    "                print(\"Draw!\")\n",
    "                break\n",
    "            self.switch_player()\n",
    "\n",
    "# Run the game\n",
    "if __name__ == \"__main__\":\n",
    "    game = TicTacToe()\n",
    "    game.play()\n"
   ]
  },
  {
   "cell_type": "code",
   "execution_count": null,
   "id": "da0170ae-3e4d-4d72-b98d-e04b38fdd9fe",
   "metadata": {},
   "outputs": [],
   "source": []
  }
 ],
 "metadata": {
  "kernelspec": {
   "display_name": "Python 3 (ipykernel)",
   "language": "python",
   "name": "python3"
  },
  "language_info": {
   "codemirror_mode": {
    "name": "ipython",
    "version": 3
   },
   "file_extension": ".py",
   "mimetype": "text/x-python",
   "name": "python",
   "nbconvert_exporter": "python",
   "pygments_lexer": "ipython3",
   "version": "3.11.7"
  }
 },
 "nbformat": 4,
 "nbformat_minor": 5
}
